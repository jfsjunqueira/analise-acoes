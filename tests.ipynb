{
 "cells": [
  {
   "cell_type": "markdown",
   "metadata": {},
   "source": [
    "# Testing"
   ]
  },
  {
   "cell_type": "code",
   "execution_count": 10,
   "metadata": {},
   "outputs": [],
   "source": [
    "%load_ext autoreload\n",
    "%autoreload 2"
   ]
  },
  {
   "cell_type": "code",
   "execution_count": 16,
   "metadata": {},
   "outputs": [],
   "source": [
    "import pandas as pd"
   ]
  },
  {
   "cell_type": "markdown",
   "metadata": {},
   "source": [
    "## Testing BVMF scrapping"
   ]
  },
  {
   "cell_type": "code",
   "execution_count": 13,
   "metadata": {},
   "outputs": [],
   "source": [
    "from src.scrapping.bvmf import bvmf_scrap"
   ]
  },
  {
   "cell_type": "code",
   "execution_count": 14,
   "metadata": {},
   "outputs": [],
   "source": [
    "test_dict = bvmf_scrap('21121')"
   ]
  },
  {
   "cell_type": "code",
   "execution_count": 17,
   "metadata": {},
   "outputs": [
    {
     "data": {
      "text/html": [
       "<div>\n",
       "<style scoped>\n",
       "    .dataframe tbody tr th:only-of-type {\n",
       "        vertical-align: middle;\n",
       "    }\n",
       "\n",
       "    .dataframe tbody tr th {\n",
       "        vertical-align: top;\n",
       "    }\n",
       "\n",
       "    .dataframe thead th {\n",
       "        text-align: right;\n",
       "    }\n",
       "</style>\n",
       "<table border=\"1\" class=\"dataframe\">\n",
       "  <thead>\n",
       "    <tr style=\"text-align: right;\">\n",
       "      <th></th>\n",
       "      <th>ticker</th>\n",
       "      <th>activity</th>\n",
       "      <th>industry</th>\n",
       "      <th>ord_n</th>\n",
       "      <th>pre_n</th>\n",
       "    </tr>\n",
       "  </thead>\n",
       "  <tbody>\n",
       "    <tr>\n",
       "      <th>0</th>\n",
       "      <td>SULA11</td>\n",
       "      <td>A Sul América S.A. É Uma Sociedade de Particip...</td>\n",
       "      <td>Financeiro / PrevidÃªncia e Seguros / Seguradoras</td>\n",
       "      <td>284417247</td>\n",
       "      <td>568834545</td>\n",
       "    </tr>\n",
       "    <tr>\n",
       "      <th>1</th>\n",
       "      <td>SULA3</td>\n",
       "      <td>A Sul América S.A. É Uma Sociedade de Particip...</td>\n",
       "      <td>Financeiro / PrevidÃªncia e Seguros / Seguradoras</td>\n",
       "      <td>284417247</td>\n",
       "      <td>568834545</td>\n",
       "    </tr>\n",
       "    <tr>\n",
       "      <th>2</th>\n",
       "      <td>SULA4</td>\n",
       "      <td>A Sul América S.A. É Uma Sociedade de Particip...</td>\n",
       "      <td>Financeiro / PrevidÃªncia e Seguros / Seguradoras</td>\n",
       "      <td>284417247</td>\n",
       "      <td>568834545</td>\n",
       "    </tr>\n",
       "    <tr>\n",
       "      <th>3</th>\n",
       "      <td>SULA11</td>\n",
       "      <td>A Sul América S.A. É Uma Sociedade de Particip...</td>\n",
       "      <td>Financeiro / PrevidÃªncia e Seguros / Seguradoras</td>\n",
       "      <td>284417247</td>\n",
       "      <td>568834545</td>\n",
       "    </tr>\n",
       "    <tr>\n",
       "      <th>4</th>\n",
       "      <td>SULA3</td>\n",
       "      <td>A Sul América S.A. É Uma Sociedade de Particip...</td>\n",
       "      <td>Financeiro / PrevidÃªncia e Seguros / Seguradoras</td>\n",
       "      <td>284417247</td>\n",
       "      <td>568834545</td>\n",
       "    </tr>\n",
       "  </tbody>\n",
       "</table>\n",
       "</div>"
      ],
      "text/plain": [
       "   ticker                                           activity  \\\n",
       "0  SULA11  A Sul América S.A. É Uma Sociedade de Particip...   \n",
       "1   SULA3  A Sul América S.A. É Uma Sociedade de Particip...   \n",
       "2   SULA4  A Sul América S.A. É Uma Sociedade de Particip...   \n",
       "3  SULA11  A Sul América S.A. É Uma Sociedade de Particip...   \n",
       "4   SULA3  A Sul América S.A. É Uma Sociedade de Particip...   \n",
       "\n",
       "                                            industry      ord_n      pre_n  \n",
       "0  Financeiro / PrevidÃªncia e Seguros / Seguradoras  284417247  568834545  \n",
       "1  Financeiro / PrevidÃªncia e Seguros / Seguradoras  284417247  568834545  \n",
       "2  Financeiro / PrevidÃªncia e Seguros / Seguradoras  284417247  568834545  \n",
       "3  Financeiro / PrevidÃªncia e Seguros / Seguradoras  284417247  568834545  \n",
       "4  Financeiro / PrevidÃªncia e Seguros / Seguradoras  284417247  568834545  "
      ]
     },
     "execution_count": 17,
     "metadata": {},
     "output_type": "execute_result"
    }
   ],
   "source": [
    "pd.DataFrame(test_dict)"
   ]
  }
 ],
 "metadata": {
  "kernelspec": {
   "display_name": "Python 3.9.12 ('base')",
   "language": "python",
   "name": "python3"
  },
  "language_info": {
   "codemirror_mode": {
    "name": "ipython",
    "version": 3
   },
   "file_extension": ".py",
   "mimetype": "text/x-python",
   "name": "python",
   "nbconvert_exporter": "python",
   "pygments_lexer": "ipython3",
   "version": "3.9.12"
  },
  "orig_nbformat": 4,
  "vscode": {
   "interpreter": {
    "hash": "c2fd752b14884c171170c6b9063a03ceb4ffb5c38b296f57d031bc8f2c4fd395"
   }
  }
 },
 "nbformat": 4,
 "nbformat_minor": 2
}
