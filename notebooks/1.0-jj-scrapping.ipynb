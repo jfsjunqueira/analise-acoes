{
 "cells": [
  {
   "cell_type": "markdown",
   "metadata": {},
   "source": [
    "# Testing how to scrape CVM website"
   ]
  },
  {
   "cell_type": "code",
   "execution_count": 1,
   "metadata": {},
   "outputs": [],
   "source": [
    "%load_ext autoreload\n",
    "%autoreload 2"
   ]
  },
  {
   "cell_type": "markdown",
   "metadata": {},
   "source": [
    "Setting parent directory as current work directory."
   ]
  },
  {
   "cell_type": "code",
   "execution_count": 2,
   "metadata": {},
   "outputs": [],
   "source": [
    "import os\n",
    "import sys\n",
    "\n",
    "module_path = os.path.abspath(os.path.join(\"..\"))\n",
    "\n",
    "if module_path not in sys.path:\n",
    "    sys.path.append(module_path)\n"
   ]
  },
  {
   "cell_type": "markdown",
   "metadata": {},
   "source": [
    "### 1 - Imports"
   ]
  },
  {
   "cell_type": "code",
   "execution_count": 3,
   "metadata": {},
   "outputs": [],
   "source": [
    "import pandas as pd\n"
   ]
  },
  {
   "cell_type": "markdown",
   "metadata": {},
   "source": [
    "### 2 - Fetching macro-variables"
   ]
  },
  {
   "cell_type": "code",
   "execution_count": 4,
   "metadata": {},
   "outputs": [
    {
     "name": "stdout",
     "output_type": "stream",
     "text": [
      "http://dados.cvm.gov.br/dados/CIA_ABERTA/DOC/DFP/DADOS/dfp_cia_aberta_2021.zip\n",
      "data\n"
     ]
    }
   ],
   "source": [
    "from src.config import *\n",
    "\n",
    "print(CVM_URL, DATA_PATH, sep=\"\\n\")\n",
    "\n"
   ]
  },
  {
   "cell_type": "markdown",
   "metadata": {},
   "source": [
    "### 3 - Downloading and Unzipping data"
   ]
  },
  {
   "cell_type": "code",
   "execution_count": 14,
   "metadata": {},
   "outputs": [],
   "source": [
    "from src.scrapping.extract import download_file, unzip_file\n",
    "\n",
    "def download_unzip(url, dest_folder):\n",
    "    print(\"Downloading the file...\")\n",
    "    file_name = download_file(url, dest_folder)\n",
    "    print(\"Unzipping the file...\")\n",
    "    unzip_file(file_name, dest_folder=file_name[:-4])\n",
    "    print(f\"File {file_name} successfuly downloaded to {dest_folder}!\")\n",
    "    "
   ]
  },
  {
   "cell_type": "markdown",
   "metadata": {},
   "source": [
    "Extracting all"
   ]
  },
  {
   "cell_type": "code",
   "execution_count": 15,
   "metadata": {},
   "outputs": [
    {
     "name": "stdout",
     "output_type": "stream",
     "text": [
      "Downloading the file...\n",
      "Success: Saving to /home/jjunqueira/Projetos/analise-acoes/data/dfp_cia_aberta_2011.zip\n",
      "Unzipping the file...\n",
      "File ../data/dfp_cia_aberta_2011.zip successfuly downloaded to ../data!\n",
      "Downloading the file...\n",
      "Success: Saving to /home/jjunqueira/Projetos/analise-acoes/data/dfp_cia_aberta_2013.zip\n",
      "Unzipping the file...\n",
      "File ../data/dfp_cia_aberta_2013.zip successfuly downloaded to ../data!\n",
      "Downloading the file...\n",
      "Success: Saving to /home/jjunqueira/Projetos/analise-acoes/data/dfp_cia_aberta_2015.zip\n",
      "Unzipping the file...\n",
      "File ../data/dfp_cia_aberta_2015.zip successfuly downloaded to ../data!\n",
      "Downloading the file...\n",
      "Success: Saving to /home/jjunqueira/Projetos/analise-acoes/data/dfp_cia_aberta_2017.zip\n",
      "Unzipping the file...\n",
      "File ../data/dfp_cia_aberta_2017.zip successfuly downloaded to ../data!\n",
      "Downloading the file...\n",
      "Success: Saving to /home/jjunqueira/Projetos/analise-acoes/data/dfp_cia_aberta_2019.zip\n",
      "Unzipping the file...\n",
      "File ../data/dfp_cia_aberta_2019.zip successfuly downloaded to ../data!\n"
     ]
    }
   ],
   "source": [
    "url_list = [f'{CVM_URL[:-8]}{i}.zip' for i in range(2011,2020,2)]\n",
    "\n",
    "for url in url_list:\n",
    "    download_unzip(url, '../'+DATA_PATH)"
   ]
  }
 ],
 "metadata": {
  "interpreter": {
   "hash": "c2fd752b14884c171170c6b9063a03ceb4ffb5c38b296f57d031bc8f2c4fd395"
  },
  "kernelspec": {
   "display_name": "Python 3.9.12 ('base')",
   "language": "python",
   "name": "python3"
  },
  "language_info": {
   "codemirror_mode": {
    "name": "ipython",
    "version": 3
   },
   "file_extension": ".py",
   "mimetype": "text/x-python",
   "name": "python",
   "nbconvert_exporter": "python",
   "pygments_lexer": "ipython3",
   "version": "3.9.12"
  },
  "orig_nbformat": 4
 },
 "nbformat": 4,
 "nbformat_minor": 2
}
