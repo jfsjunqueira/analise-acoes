{
 "cells": [
  {
   "cell_type": "markdown",
   "metadata": {},
   "source": [
    "# Preprocessing CVM data"
   ]
  },
  {
   "cell_type": "code",
   "execution_count": 1,
   "metadata": {},
   "outputs": [],
   "source": [
    "%load_ext autoreload\n",
    "%autoreload 2"
   ]
  },
  {
   "cell_type": "markdown",
   "metadata": {},
   "source": [
    "Setting parent directory as current work directory."
   ]
  },
  {
   "cell_type": "code",
   "execution_count": 2,
   "metadata": {},
   "outputs": [],
   "source": [
    "import os\n",
    "import sys\n",
    "\n",
    "module_path = os.path.abspath(os.path.join(\"..\"))\n",
    "\n",
    "if module_path not in sys.path:\n",
    "    sys.path.append(module_path)\n"
   ]
  },
  {
   "cell_type": "markdown",
   "metadata": {},
   "source": [
    "### 1 - Imports"
   ]
  },
  {
   "cell_type": "code",
   "execution_count": 3,
   "metadata": {},
   "outputs": [],
   "source": [
    "import pandas as pd\n",
    "from matplotlib import pyplot as plt"
   ]
  },
  {
   "cell_type": "markdown",
   "metadata": {},
   "source": [
    "### 2 - Fetching macro-variables"
   ]
  },
  {
   "cell_type": "code",
   "execution_count": 6,
   "metadata": {},
   "outputs": [],
   "source": [
    "from src.config import CVM_DATE_COLUMNS, DATA_PATH"
   ]
  },
  {
   "cell_type": "markdown",
   "metadata": {},
   "source": [
    "### 3 - Loading data"
   ]
  },
  {
   "cell_type": "code",
   "execution_count": 7,
   "metadata": {},
   "outputs": [],
   "source": [
    "from src.data.structure import get_full_df"
   ]
  },
  {
   "cell_type": "code",
   "execution_count": 8,
   "metadata": {},
   "outputs": [],
   "source": [
    "df = get_full_df()"
   ]
  },
  {
   "cell_type": "code",
   "execution_count": 9,
   "metadata": {},
   "outputs": [
    {
     "data": {
      "text/plain": [
       "Index(['2020-12-31', '2021-12-31', '2010-12-31', '2011-12-31', '2019-12-31',\n",
       "       '2018-12-31', '2013-12-31', '2012-12-31', '2017-12-31', '2016-12-31',\n",
       "       '2015-12-31', '2014-12-31'],\n",
       "      dtype='object')"
      ]
     },
     "execution_count": 9,
     "metadata": {},
     "output_type": "execute_result"
    }
   ],
   "source": [
    "df.DT_FIM_EXERC.value_counts().sort_values(ascending=False).index[:12]"
   ]
  },
  {
   "cell_type": "markdown",
   "metadata": {},
   "source": [
    "### 4 - Preprocessing data"
   ]
  },
  {
   "cell_type": "code",
   "execution_count": 11,
   "metadata": {},
   "outputs": [],
   "source": [
    "from src.preprocessing.preprocessing import (filter_main_rows, treat_date,\n",
    "                                             treat_value)\n",
    "\n",
    "df_raw = df.copy()\n",
    "df = treat_value(df)\n",
    "df = treat_date(df, date_columns=CVM_DATE_COLUMNS)\n",
    "df = filter_main_rows(df)"
   ]
  },
  {
   "cell_type": "code",
   "execution_count": 19,
   "metadata": {},
   "outputs": [
    {
     "data": {
      "text/html": [
       "<div>\n",
       "<style scoped>\n",
       "    .dataframe tbody tr th:only-of-type {\n",
       "        vertical-align: middle;\n",
       "    }\n",
       "\n",
       "    .dataframe tbody tr th {\n",
       "        vertical-align: top;\n",
       "    }\n",
       "\n",
       "    .dataframe thead th {\n",
       "        text-align: right;\n",
       "    }\n",
       "</style>\n",
       "<table border=\"1\" class=\"dataframe\">\n",
       "  <thead>\n",
       "    <tr style=\"text-align: right;\">\n",
       "      <th></th>\n",
       "      <th>CNPJ_CIA</th>\n",
       "      <th>DT_REFER</th>\n",
       "      <th>VERSAO</th>\n",
       "      <th>DENOM_CIA</th>\n",
       "      <th>CD_CVM</th>\n",
       "      <th>GRUPO_DFP</th>\n",
       "      <th>MOEDA</th>\n",
       "      <th>ORDEM_EXERC</th>\n",
       "      <th>DT_INI_EXERC</th>\n",
       "      <th>DT_FIM_EXERC</th>\n",
       "      <th>CD_CONTA</th>\n",
       "      <th>DS_CONTA</th>\n",
       "      <th>VL_CONTA</th>\n",
       "      <th>ST_CONTA_FIXA</th>\n",
       "    </tr>\n",
       "  </thead>\n",
       "  <tbody>\n",
       "    <tr>\n",
       "      <th>0</th>\n",
       "      <td>00.000.000/0001-91</td>\n",
       "      <td>2011-12-31</td>\n",
       "      <td>4</td>\n",
       "      <td>BCO BRASIL S.A.</td>\n",
       "      <td>1023</td>\n",
       "      <td>DF Consolidado - Demonstração do Resultado</td>\n",
       "      <td>REAL</td>\n",
       "      <td>PENÚLTIMO</td>\n",
       "      <td>2010-01-01</td>\n",
       "      <td>2010-12-31</td>\n",
       "      <td>3.01</td>\n",
       "      <td>Receitas da Intermediação Financeira</td>\n",
       "      <td>8.514321e+10</td>\n",
       "      <td>S</td>\n",
       "    </tr>\n",
       "    <tr>\n",
       "      <th>1</th>\n",
       "      <td>00.000.000/0001-91</td>\n",
       "      <td>2011-12-31</td>\n",
       "      <td>4</td>\n",
       "      <td>BCO BRASIL S.A.</td>\n",
       "      <td>1023</td>\n",
       "      <td>DF Consolidado - Demonstração do Resultado</td>\n",
       "      <td>REAL</td>\n",
       "      <td>ÚLTIMO</td>\n",
       "      <td>2011-01-01</td>\n",
       "      <td>2011-12-31</td>\n",
       "      <td>3.01</td>\n",
       "      <td>Receitas da Intermediação Financeira</td>\n",
       "      <td>1.069198e+11</td>\n",
       "      <td>S</td>\n",
       "    </tr>\n",
       "    <tr>\n",
       "      <th>4</th>\n",
       "      <td>00.000.000/0001-91</td>\n",
       "      <td>2011-12-31</td>\n",
       "      <td>4</td>\n",
       "      <td>BCO BRASIL S.A.</td>\n",
       "      <td>1023</td>\n",
       "      <td>DF Consolidado - Demonstração do Resultado</td>\n",
       "      <td>REAL</td>\n",
       "      <td>PENÚLTIMO</td>\n",
       "      <td>2010-01-01</td>\n",
       "      <td>2010-12-31</td>\n",
       "      <td>3.02</td>\n",
       "      <td>Despesas da Intermediação Financeira</td>\n",
       "      <td>-5.077574e+10</td>\n",
       "      <td>S</td>\n",
       "    </tr>\n",
       "    <tr>\n",
       "      <th>5</th>\n",
       "      <td>00.000.000/0001-91</td>\n",
       "      <td>2011-12-31</td>\n",
       "      <td>4</td>\n",
       "      <td>BCO BRASIL S.A.</td>\n",
       "      <td>1023</td>\n",
       "      <td>DF Consolidado - Demonstração do Resultado</td>\n",
       "      <td>REAL</td>\n",
       "      <td>ÚLTIMO</td>\n",
       "      <td>2011-01-01</td>\n",
       "      <td>2011-12-31</td>\n",
       "      <td>3.02</td>\n",
       "      <td>Despesas da Intermediação Financeira</td>\n",
       "      <td>-6.997608e+10</td>\n",
       "      <td>S</td>\n",
       "    </tr>\n",
       "    <tr>\n",
       "      <th>10</th>\n",
       "      <td>00.000.000/0001-91</td>\n",
       "      <td>2011-12-31</td>\n",
       "      <td>4</td>\n",
       "      <td>BCO BRASIL S.A.</td>\n",
       "      <td>1023</td>\n",
       "      <td>DF Consolidado - Demonstração do Resultado</td>\n",
       "      <td>REAL</td>\n",
       "      <td>PENÚLTIMO</td>\n",
       "      <td>2010-01-01</td>\n",
       "      <td>2010-12-31</td>\n",
       "      <td>3.03</td>\n",
       "      <td>Resultado Bruto Intermediação Financeira</td>\n",
       "      <td>3.436746e+10</td>\n",
       "      <td>S</td>\n",
       "    </tr>\n",
       "  </tbody>\n",
       "</table>\n",
       "</div>"
      ],
      "text/plain": [
       "              CNPJ_CIA   DT_REFER  VERSAO        DENOM_CIA  CD_CVM  \\\n",
       "0   00.000.000/0001-91 2011-12-31       4  BCO BRASIL S.A.    1023   \n",
       "1   00.000.000/0001-91 2011-12-31       4  BCO BRASIL S.A.    1023   \n",
       "4   00.000.000/0001-91 2011-12-31       4  BCO BRASIL S.A.    1023   \n",
       "5   00.000.000/0001-91 2011-12-31       4  BCO BRASIL S.A.    1023   \n",
       "10  00.000.000/0001-91 2011-12-31       4  BCO BRASIL S.A.    1023   \n",
       "\n",
       "                                     GRUPO_DFP MOEDA ORDEM_EXERC DT_INI_EXERC  \\\n",
       "0   DF Consolidado - Demonstração do Resultado  REAL   PENÚLTIMO   2010-01-01   \n",
       "1   DF Consolidado - Demonstração do Resultado  REAL      ÚLTIMO   2011-01-01   \n",
       "4   DF Consolidado - Demonstração do Resultado  REAL   PENÚLTIMO   2010-01-01   \n",
       "5   DF Consolidado - Demonstração do Resultado  REAL      ÚLTIMO   2011-01-01   \n",
       "10  DF Consolidado - Demonstração do Resultado  REAL   PENÚLTIMO   2010-01-01   \n",
       "\n",
       "   DT_FIM_EXERC CD_CONTA                                  DS_CONTA  \\\n",
       "0    2010-12-31     3.01      Receitas da Intermediação Financeira   \n",
       "1    2011-12-31     3.01      Receitas da Intermediação Financeira   \n",
       "4    2010-12-31     3.02      Despesas da Intermediação Financeira   \n",
       "5    2011-12-31     3.02      Despesas da Intermediação Financeira   \n",
       "10   2010-12-31     3.03  Resultado Bruto Intermediação Financeira   \n",
       "\n",
       "        VL_CONTA ST_CONTA_FIXA  \n",
       "0   8.514321e+10             S  \n",
       "1   1.069198e+11             S  \n",
       "4  -5.077574e+10             S  \n",
       "5  -6.997608e+10             S  \n",
       "10  3.436746e+10             S  "
      ]
     },
     "execution_count": 19,
     "metadata": {},
     "output_type": "execute_result"
    }
   ],
   "source": [
    "df.head()"
   ]
  },
  {
   "cell_type": "code",
   "execution_count": 12,
   "metadata": {},
   "outputs": [],
   "source": [
    "base_df = df.fillna(0).copy()\n",
    "base_df.VL_CONTA = base_df.VL_CONTA / 1_000_000\n",
    "structured_table = base_df.pivot_table(\n",
    "    values='VL_CONTA',\n",
    "    index=['DENOM_CIA','DT_REFER'],\n",
    "    columns=['CD_CONTA']\n",
    ").reset_index().fillna(1)"
   ]
  },
  {
   "cell_type": "code",
   "execution_count": 13,
   "metadata": {},
   "outputs": [],
   "source": [
    "ds_contas = pd.DataFrame(df[['CD_CONTA','DS_CONTA']].value_counts()).sort_values(by='CD_CONTA')"
   ]
  },
  {
   "cell_type": "code",
   "execution_count": 14,
   "metadata": {},
   "outputs": [],
   "source": [
    "ds_contas.to_csv('../utils/ds_contas.csv')"
   ]
  },
  {
   "cell_type": "code",
   "execution_count": 15,
   "metadata": {},
   "outputs": [],
   "source": [
    "structured_table['liq_corrente'] = structured_table['1.01'] / structured_table['2.01']\n",
    "structured_table['ROE'] = structured_table['3.07'] / structured_table['2.03']\n",
    "structured_table['ROA'] = structured_table['3.07'] / (structured_table[[\n",
    "    '1.01',\n",
    "    '1.02',\n",
    "    '1.03',\n",
    "    '1.04',\n",
    "    '1.05',\n",
    "    '1.06',\n",
    "    '1.07',\n",
    "    '1.08']].sum(axis=1))\n",
    "structured_table['gross_margin'] = structured_table['3.03'] / structured_table['3.01']\n",
    "structured_table['op_margin'] = structured_table['3.05'] / structured_table['3.01']\n",
    "structured_table['net_margin'] = structured_table['3.07'] / structured_table['3.01']"
   ]
  },
  {
   "cell_type": "code",
   "execution_count": 18,
   "metadata": {},
   "outputs": [
    {
     "data": {
      "text/html": [
       "<div>\n",
       "<style scoped>\n",
       "    .dataframe tbody tr th:only-of-type {\n",
       "        vertical-align: middle;\n",
       "    }\n",
       "\n",
       "    .dataframe tbody tr th {\n",
       "        vertical-align: top;\n",
       "    }\n",
       "\n",
       "    .dataframe thead th {\n",
       "        text-align: right;\n",
       "    }\n",
       "</style>\n",
       "<table border=\"1\" class=\"dataframe\">\n",
       "  <thead>\n",
       "    <tr style=\"text-align: right;\">\n",
       "      <th>CD_CONTA</th>\n",
       "      <th>DENOM_CIA</th>\n",
       "      <th>DT_REFER</th>\n",
       "      <th>1.01</th>\n",
       "      <th>1.02</th>\n",
       "      <th>1.03</th>\n",
       "      <th>1.04</th>\n",
       "      <th>1.05</th>\n",
       "      <th>1.06</th>\n",
       "      <th>1.07</th>\n",
       "      <th>1.08</th>\n",
       "      <th>...</th>\n",
       "      <th>3.11</th>\n",
       "      <th>3.12</th>\n",
       "      <th>3.13</th>\n",
       "      <th>3.99</th>\n",
       "      <th>liq_corrente</th>\n",
       "      <th>ROE</th>\n",
       "      <th>ROA</th>\n",
       "      <th>gross_margin</th>\n",
       "      <th>op_margin</th>\n",
       "      <th>net_margin</th>\n",
       "    </tr>\n",
       "  </thead>\n",
       "  <tbody>\n",
       "    <tr>\n",
       "      <th>240</th>\n",
       "      <td>BCO BRASIL S.A.</td>\n",
       "      <td>2021-12-31</td>\n",
       "      <td>115342.0945</td>\n",
       "      <td>1.546529e+06</td>\n",
       "      <td>65482.81</td>\n",
       "      <td>31567.7615</td>\n",
       "      <td>18676.499</td>\n",
       "      <td>12338.628</td>\n",
       "      <td>6630.1685</td>\n",
       "      <td>1.0</td>\n",
       "      <td>...</td>\n",
       "      <td>16507.8770</td>\n",
       "      <td>1.0</td>\n",
       "      <td>1.0</td>\n",
       "      <td>0.0</td>\n",
       "      <td>44.780212</td>\n",
       "      <td>0.907439</td>\n",
       "      <td>0.009189</td>\n",
       "      <td>0.512458</td>\n",
       "      <td>0.158351</td>\n",
       "      <td>0.146993</td>\n",
       "    </tr>\n",
       "    <tr>\n",
       "      <th>1449</th>\n",
       "      <td>MINERVA S.A.</td>\n",
       "      <td>2021-12-31</td>\n",
       "      <td>12526.7065</td>\n",
       "      <td>5.969650e+03</td>\n",
       "      <td>1.00</td>\n",
       "      <td>1.0000</td>\n",
       "      <td>1.000</td>\n",
       "      <td>1.000</td>\n",
       "      <td>1.0000</td>\n",
       "      <td>1.0</td>\n",
       "      <td>...</td>\n",
       "      <td>647.9855</td>\n",
       "      <td>1.0</td>\n",
       "      <td>1.0</td>\n",
       "      <td>0.0</td>\n",
       "      <td>1.837564</td>\n",
       "      <td>0.904577</td>\n",
       "      <td>0.036526</td>\n",
       "      <td>0.182869</td>\n",
       "      <td>0.082576</td>\n",
       "      <td>0.029148</td>\n",
       "    </tr>\n",
       "    <tr>\n",
       "      <th>1082</th>\n",
       "      <td>HUMBERG AGRIBRASIL COMÉRCIO E EXPORTAÇÃO DE GR...</td>\n",
       "      <td>2021-12-31</td>\n",
       "      <td>584.0800</td>\n",
       "      <td>2.987100e+01</td>\n",
       "      <td>1.00</td>\n",
       "      <td>1.0000</td>\n",
       "      <td>1.000</td>\n",
       "      <td>1.000</td>\n",
       "      <td>1.0000</td>\n",
       "      <td>1.0</td>\n",
       "      <td>...</td>\n",
       "      <td>16.1490</td>\n",
       "      <td>1.0</td>\n",
       "      <td>1.0</td>\n",
       "      <td>0.0</td>\n",
       "      <td>1.147549</td>\n",
       "      <td>0.904521</td>\n",
       "      <td>0.039158</td>\n",
       "      <td>0.031153</td>\n",
       "      <td>0.020689</td>\n",
       "      <td>0.013668</td>\n",
       "    </tr>\n",
       "    <tr>\n",
       "      <th>670</th>\n",
       "      <td>CONSTRUTORA ADOLPHO LINDENBERG S.A.</td>\n",
       "      <td>2021-12-31</td>\n",
       "      <td>87.1165</td>\n",
       "      <td>7.094200e+01</td>\n",
       "      <td>1.00</td>\n",
       "      <td>1.0000</td>\n",
       "      <td>1.000</td>\n",
       "      <td>1.000</td>\n",
       "      <td>1.0000</td>\n",
       "      <td>1.0</td>\n",
       "      <td>...</td>\n",
       "      <td>4.7050</td>\n",
       "      <td>1.0</td>\n",
       "      <td>1.0</td>\n",
       "      <td>0.0</td>\n",
       "      <td>2.162505</td>\n",
       "      <td>0.902431</td>\n",
       "      <td>0.034277</td>\n",
       "      <td>0.302498</td>\n",
       "      <td>0.170620</td>\n",
       "      <td>0.109150</td>\n",
       "    </tr>\n",
       "    <tr>\n",
       "      <th>2106</th>\n",
       "      <td>UNIPAR CARBOCLORO S.A.</td>\n",
       "      <td>2021-12-31</td>\n",
       "      <td>2361.7230</td>\n",
       "      <td>3.016529e+03</td>\n",
       "      <td>1.00</td>\n",
       "      <td>1.0000</td>\n",
       "      <td>1.000</td>\n",
       "      <td>1.000</td>\n",
       "      <td>1.0000</td>\n",
       "      <td>1.0</td>\n",
       "      <td>...</td>\n",
       "      <td>1187.0240</td>\n",
       "      <td>1.0</td>\n",
       "      <td>1.0</td>\n",
       "      <td>0.0</td>\n",
       "      <td>1.565932</td>\n",
       "      <td>0.895580</td>\n",
       "      <td>0.337696</td>\n",
       "      <td>0.407316</td>\n",
       "      <td>0.363571</td>\n",
       "      <td>0.358006</td>\n",
       "    </tr>\n",
       "    <tr>\n",
       "      <th>873</th>\n",
       "      <td>EMBPAR PARTICIPAÇÕES S/A</td>\n",
       "      <td>2021-12-31</td>\n",
       "      <td>119.9945</td>\n",
       "      <td>8.665450e+01</td>\n",
       "      <td>1.00</td>\n",
       "      <td>1.0000</td>\n",
       "      <td>1.000</td>\n",
       "      <td>1.000</td>\n",
       "      <td>1.0000</td>\n",
       "      <td>1.0</td>\n",
       "      <td>...</td>\n",
       "      <td>44.8955</td>\n",
       "      <td>1.0</td>\n",
       "      <td>1.0</td>\n",
       "      <td>0.0</td>\n",
       "      <td>1.590827</td>\n",
       "      <td>0.811474</td>\n",
       "      <td>0.221431</td>\n",
       "      <td>0.172682</td>\n",
       "      <td>0.076918</td>\n",
       "      <td>0.067409</td>\n",
       "    </tr>\n",
       "    <tr>\n",
       "      <th>929</th>\n",
       "      <td>ETERNIT S.A. - EM RECUPERAÇÃO JUDICIAL</td>\n",
       "      <td>2021-12-31</td>\n",
       "      <td>613.1415</td>\n",
       "      <td>2.654580e+02</td>\n",
       "      <td>1.00</td>\n",
       "      <td>1.0000</td>\n",
       "      <td>1.000</td>\n",
       "      <td>1.000</td>\n",
       "      <td>1.0000</td>\n",
       "      <td>1.0</td>\n",
       "      <td>...</td>\n",
       "      <td>214.0895</td>\n",
       "      <td>1.0</td>\n",
       "      <td>1.0</td>\n",
       "      <td>0.0</td>\n",
       "      <td>2.851158</td>\n",
       "      <td>0.694628</td>\n",
       "      <td>0.305604</td>\n",
       "      <td>0.397661</td>\n",
       "      <td>0.295737</td>\n",
       "      <td>0.299286</td>\n",
       "    </tr>\n",
       "    <tr>\n",
       "      <th>589</th>\n",
       "      <td>CIA SIDERURGICA NACIONAL</td>\n",
       "      <td>2021-12-31</td>\n",
       "      <td>29179.2740</td>\n",
       "      <td>4.201135e+04</td>\n",
       "      <td>1.00</td>\n",
       "      <td>1.0000</td>\n",
       "      <td>1.000</td>\n",
       "      <td>1.000</td>\n",
       "      <td>1.0000</td>\n",
       "      <td>1.0</td>\n",
       "      <td>...</td>\n",
       "      <td>8944.1195</td>\n",
       "      <td>1.0</td>\n",
       "      <td>1.0</td>\n",
       "      <td>0.0</td>\n",
       "      <td>1.486186</td>\n",
       "      <td>0.679084</td>\n",
       "      <td>0.165134</td>\n",
       "      <td>0.423382</td>\n",
       "      <td>0.336698</td>\n",
       "      <td>0.301553</td>\n",
       "    </tr>\n",
       "    <tr>\n",
       "      <th>138</th>\n",
       "      <td>ATOM EMPREENDIMENTOS E PARTICIPAÇÕES S.A.</td>\n",
       "      <td>2021-12-31</td>\n",
       "      <td>26.3425</td>\n",
       "      <td>6.475000e-01</td>\n",
       "      <td>1.00</td>\n",
       "      <td>1.0000</td>\n",
       "      <td>1.000</td>\n",
       "      <td>1.000</td>\n",
       "      <td>1.0000</td>\n",
       "      <td>1.0</td>\n",
       "      <td>...</td>\n",
       "      <td>9.2000</td>\n",
       "      <td>1.0</td>\n",
       "      <td>1.0</td>\n",
       "      <td>0.0</td>\n",
       "      <td>8.300772</td>\n",
       "      <td>0.637370</td>\n",
       "      <td>0.293134</td>\n",
       "      <td>1.000000</td>\n",
       "      <td>0.262977</td>\n",
       "      <td>0.328080</td>\n",
       "    </tr>\n",
       "    <tr>\n",
       "      <th>1281</th>\n",
       "      <td>LIGHT ENERGIA S.A.</td>\n",
       "      <td>2021-12-31</td>\n",
       "      <td>1715.1910</td>\n",
       "      <td>2.002958e+03</td>\n",
       "      <td>1.00</td>\n",
       "      <td>1.0000</td>\n",
       "      <td>1.000</td>\n",
       "      <td>1.000</td>\n",
       "      <td>1.0000</td>\n",
       "      <td>1.0</td>\n",
       "      <td>...</td>\n",
       "      <td>262.3890</td>\n",
       "      <td>1.0</td>\n",
       "      <td>1.0</td>\n",
       "      <td>0.0</td>\n",
       "      <td>1.080401</td>\n",
       "      <td>0.637062</td>\n",
       "      <td>0.104044</td>\n",
       "      <td>0.740114</td>\n",
       "      <td>0.709094</td>\n",
       "      <td>0.390489</td>\n",
       "    </tr>\n",
       "  </tbody>\n",
       "</table>\n",
       "<p>10 rows × 38 columns</p>\n",
       "</div>"
      ],
      "text/plain": [
       "CD_CONTA                                          DENOM_CIA   DT_REFER  \\\n",
       "240                                         BCO BRASIL S.A. 2021-12-31   \n",
       "1449                                           MINERVA S.A. 2021-12-31   \n",
       "1082      HUMBERG AGRIBRASIL COMÉRCIO E EXPORTAÇÃO DE GR... 2021-12-31   \n",
       "670                     CONSTRUTORA ADOLPHO LINDENBERG S.A. 2021-12-31   \n",
       "2106                                 UNIPAR CARBOCLORO S.A. 2021-12-31   \n",
       "873                                EMBPAR PARTICIPAÇÕES S/A 2021-12-31   \n",
       "929                  ETERNIT S.A. - EM RECUPERAÇÃO JUDICIAL 2021-12-31   \n",
       "589                                CIA SIDERURGICA NACIONAL 2021-12-31   \n",
       "138               ATOM EMPREENDIMENTOS E PARTICIPAÇÕES S.A. 2021-12-31   \n",
       "1281                                     LIGHT ENERGIA S.A. 2021-12-31   \n",
       "\n",
       "CD_CONTA         1.01          1.02      1.03        1.04       1.05  \\\n",
       "240       115342.0945  1.546529e+06  65482.81  31567.7615  18676.499   \n",
       "1449       12526.7065  5.969650e+03      1.00      1.0000      1.000   \n",
       "1082         584.0800  2.987100e+01      1.00      1.0000      1.000   \n",
       "670           87.1165  7.094200e+01      1.00      1.0000      1.000   \n",
       "2106        2361.7230  3.016529e+03      1.00      1.0000      1.000   \n",
       "873          119.9945  8.665450e+01      1.00      1.0000      1.000   \n",
       "929          613.1415  2.654580e+02      1.00      1.0000      1.000   \n",
       "589        29179.2740  4.201135e+04      1.00      1.0000      1.000   \n",
       "138           26.3425  6.475000e-01      1.00      1.0000      1.000   \n",
       "1281        1715.1910  2.002958e+03      1.00      1.0000      1.000   \n",
       "\n",
       "CD_CONTA       1.06       1.07  1.08  ...        3.11  3.12  3.13  3.99  \\\n",
       "240       12338.628  6630.1685   1.0  ...  16507.8770   1.0   1.0   0.0   \n",
       "1449          1.000     1.0000   1.0  ...    647.9855   1.0   1.0   0.0   \n",
       "1082          1.000     1.0000   1.0  ...     16.1490   1.0   1.0   0.0   \n",
       "670           1.000     1.0000   1.0  ...      4.7050   1.0   1.0   0.0   \n",
       "2106          1.000     1.0000   1.0  ...   1187.0240   1.0   1.0   0.0   \n",
       "873           1.000     1.0000   1.0  ...     44.8955   1.0   1.0   0.0   \n",
       "929           1.000     1.0000   1.0  ...    214.0895   1.0   1.0   0.0   \n",
       "589           1.000     1.0000   1.0  ...   8944.1195   1.0   1.0   0.0   \n",
       "138           1.000     1.0000   1.0  ...      9.2000   1.0   1.0   0.0   \n",
       "1281          1.000     1.0000   1.0  ...    262.3890   1.0   1.0   0.0   \n",
       "\n",
       "CD_CONTA  liq_corrente       ROE       ROA  gross_margin  op_margin  \\\n",
       "240          44.780212  0.907439  0.009189      0.512458   0.158351   \n",
       "1449          1.837564  0.904577  0.036526      0.182869   0.082576   \n",
       "1082          1.147549  0.904521  0.039158      0.031153   0.020689   \n",
       "670           2.162505  0.902431  0.034277      0.302498   0.170620   \n",
       "2106          1.565932  0.895580  0.337696      0.407316   0.363571   \n",
       "873           1.590827  0.811474  0.221431      0.172682   0.076918   \n",
       "929           2.851158  0.694628  0.305604      0.397661   0.295737   \n",
       "589           1.486186  0.679084  0.165134      0.423382   0.336698   \n",
       "138           8.300772  0.637370  0.293134      1.000000   0.262977   \n",
       "1281          1.080401  0.637062  0.104044      0.740114   0.709094   \n",
       "\n",
       "CD_CONTA  net_margin  \n",
       "240         0.146993  \n",
       "1449        0.029148  \n",
       "1082        0.013668  \n",
       "670         0.109150  \n",
       "2106        0.358006  \n",
       "873         0.067409  \n",
       "929         0.299286  \n",
       "589         0.301553  \n",
       "138         0.328080  \n",
       "1281        0.390489  \n",
       "\n",
       "[10 rows x 38 columns]"
      ]
     },
     "execution_count": 18,
     "metadata": {},
     "output_type": "execute_result"
    }
   ],
   "source": [
    "filter_condition = (structured_table.DT_REFER.isin(['2021-12-31','2020-12-31'])) &\\\n",
    "    (structured_table.net_margin > 0) &\\\n",
    "        (structured_table.net_margin < 10) &\\\n",
    "            (structured_table.ROE > 0) &\\\n",
    "                (structured_table.ROE < 1)\n",
    "            \n",
    "structured_table[filter_condition].sort_values(by='ROE',ascending=False).head(10)"
   ]
  },
  {
   "cell_type": "code",
   "execution_count": 3,
   "metadata": {},
   "outputs": [
    {
     "ename": "NameError",
     "evalue": "name 'df' is not defined",
     "output_type": "error",
     "traceback": [
      "\u001b[0;31m---------------------------------------------------------------------------\u001b[0m",
      "\u001b[0;31mNameError\u001b[0m                                 Traceback (most recent call last)",
      "\u001b[1;32m/home/jjunqueira/Projetos/analise-acoes/notebooks/3.0-jj-preprocessing.ipynb Cell 20'\u001b[0m in \u001b[0;36m<cell line: 1>\u001b[0;34m()\u001b[0m\n\u001b[0;32m----> <a href='vscode-notebook-cell://wsl%2Bubuntu/home/jjunqueira/Projetos/analise-acoes/notebooks/3.0-jj-preprocessing.ipynb#ch0000019vscode-remote?line=0'>1</a>\u001b[0m df\n",
      "\u001b[0;31mNameError\u001b[0m: name 'df' is not defined"
     ]
    }
   ],
   "source": [
    "df"
   ]
  },
  {
   "cell_type": "code",
   "execution_count": 13,
   "metadata": {},
   "outputs": [],
   "source": [
    "groupby_columns = [\"DENOM_CIA\"]\n",
    "grouped_df = df.groupby(by=groupby_columns)"
   ]
  },
  {
   "cell_type": "code",
   "execution_count": 14,
   "metadata": {},
   "outputs": [],
   "source": [
    "company_list = df.DENOM_CIA.unique().tolist()\n"
   ]
  },
  {
   "cell_type": "code",
   "execution_count": 16,
   "metadata": {},
   "outputs": [
    {
     "name": "stdout",
     "output_type": "stream",
     "text": [
      "CEMIG GERACAO E TRANSMISSAO S.A.\n"
     ]
    },
    {
     "data": {
      "image/png": "[encoded data removed]",
      "text/plain": [
       "<Figure size 720x720 with 1 Axes>"
      ]
     },
     "metadata": {
      "needs_background": "light"
     },
     "output_type": "display_data"
    }
   ],
   "source": [
    "company_number = 100\n",
    "print(company_list[company_number])\n",
    "pd.pivot_table(\n",
    "    grouped_df.get_group(company_list[company_number]),\n",
    "    'VL_CONTA',\n",
    "    ['CD_CONTA'],\n",
    "    columns='DT_FIM_EXERC'\n",
    "    ).dropna().T.plot(y=['3.01','3.11'],figsize=(10,10),grid=True)\n",
    "plt.show()\n",
    "\n",
    "\n"
   ]
  },
  {
   "cell_type": "markdown",
   "metadata": {},
   "source": [
    "## 5 - Exploring other dfps"
   ]
  },
  {
   "cell_type": "code",
   "execution_count": 17,
   "metadata": {},
   "outputs": [
    {
     "data": {
      "text/plain": [
       "['dfp_cia_aberta_2011',\n",
       " 'dfp_cia_aberta_2013',\n",
       " 'dfp_cia_aberta_2021',\n",
       " 'dfp_cia_aberta_2019',\n",
       " 'dfp_cia_aberta_2017',\n",
       " 'dfp_cia_aberta_2015']"
      ]
     },
     "execution_count": 17,
     "metadata": {},
     "output_type": "execute_result"
    }
   ],
   "source": [
    "[name for name in os.listdir(\"../\" + DATA_PATH) if name[-4:] != \".zip\"]"
   ]
  },
  {
   "cell_type": "code",
   "execution_count": 25,
   "metadata": {},
   "outputs": [],
   "source": [
    "df2 = read_cvm('../data/dfp_cia_aberta_2021/dfp_cia_aberta_BPP_con_2021.csv')"
   ]
  },
  {
   "cell_type": "code",
   "execution_count": 26,
   "metadata": {},
   "outputs": [
    {
     "data": {
      "text/plain": [
       "array(['Passivo Total',\n",
       "       'Passivos Financeiros Avaliados ao Valor Justo através do Resultado',\n",
       "       'Passivos Financeiros ao Custo Amortizado', 'Depósitos',\n",
       "       'Captações no Mercado Aberto', 'Recursos Mercado Interfinanceiro',\n",
       "       'Outras Captações',\n",
       "       'Obrigações por emissão de títulos e valores mobiliários e outras obrigações',\n",
       "       'Outros passivos financeiros', 'Provisões',\n",
       "       'Provisões trabalhistas, fiscais e cíveis',\n",
       "       'Provisões para perdas esperadas com garantias prestadas e compromissos de empréstimos',\n",
       "       'Passivos Fiscais', 'Outros Passivos',\n",
       "       'Passivos sobre Ativos Não Correntes a Venda e Descontinuados',\n",
       "       'Passivos sobre Ativos Não Correntes a Venda',\n",
       "       'Passivos sobre Ativos de Operações Descontinuadas',\n",
       "       'Patrimônio Líquido Consolidado',\n",
       "       'Patrimônio Líquido Atribuído ao Controlador',\n",
       "       'Capital Social Realizado', 'Reservas de Capital',\n",
       "       'Ágio na Emissão de Ações',\n",
       "       'Reserva Especial de Ágio na Incorporação',\n",
       "       'Alienação de Bônus de Subscrição', 'Opções Outorgadas',\n",
       "       'Ações em Tesouraria', 'Reservas de Reavaliação',\n",
       "       'Reservas de Lucros', 'Reserva Legal', 'Reserva Estatutária',\n",
       "       'Reserva para Contingências', 'Reserva de Lucros a Realizar',\n",
       "       'Reserva de Retenção de Lucros',\n",
       "       'Reserva Especial para Dividendos Não Distribuídos',\n",
       "       'Reserva de Incentivos Fiscais', 'Dividendo Adicional Proposto',\n",
       "       'Lucros/Prejuízos Acumulados', 'Ajustes de Avaliação Patrimonial',\n",
       "       'Ajustes Acumulados de Conversão', 'Outros Resultados Abrangentes',\n",
       "       'Patrimônio Líquido Atribuído aos Não Controladores'], dtype=object)"
      ]
     },
     "execution_count": 26,
     "metadata": {},
     "output_type": "execute_result"
    }
   ],
   "source": [
    "df2[(df2.CD_CVM == 1023)&(df2.ORDEM_EXERC == 'ÚLTIMO')].DS_CONTA.unique()"
   ]
  }
 ],
 "metadata": {
  "interpreter": {
   "hash": "c2fd752b14884c171170c6b9063a03ceb4ffb5c38b296f57d031bc8f2c4fd395"
  },
  "kernelspec": {
   "display_name": "Python 3.9.12 ('base')",
   "language": "python",
   "name": "python3"
  },
  "language_info": {
   "codemirror_mode": {
    "name": "ipython",
    "version": 3
   },
   "file_extension": ".py",
   "mimetype": "text/x-python",
   "name": "python",
   "nbconvert_exporter": "python",
   "pygments_lexer": "ipython3",
   "version": "3.9.12"
  },
  "orig_nbformat": 4
 },
 "nbformat": 4,
 "nbformat_minor": 2
}
